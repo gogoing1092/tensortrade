{
 "cells": [
  {
   "cell_type": "code",
   "execution_count": 1,
   "metadata": {
    "scrolled": true
   },
   "outputs": [
    {
     "name": "stdout",
     "output_type": "stream",
     "text": [
      "Downloading data from https://www.cryptodatadownload.com/cdd/Coinbase_BTCUSD_1h.csv\n",
      "1564672/1562254 [==============================] - 2s 1us/step\n"
     ]
    },
    {
     "ename": "TypeError",
     "evalue": "__init__() got an unexpected keyword argument 'wallet_tuples'",
     "output_type": "error",
     "traceback": [
      "\u001b[1;31m---------------------------------------------------------------------------\u001b[0m",
      "\u001b[1;31mTypeError\u001b[0m                                 Traceback (most recent call last)",
      "\u001b[1;32m<ipython-input-1-0575cc29d2ab>\u001b[0m in \u001b[0;36m<module>\u001b[1;34m\u001b[0m\n\u001b[0;32m     37\u001b[0m \u001b[0mwallets\u001b[0m \u001b[1;33m=\u001b[0m \u001b[1;33m[\u001b[0m\u001b[1;33m(\u001b[0m\u001b[0mexchange\u001b[0m\u001b[1;33m,\u001b[0m \u001b[0mUSD\u001b[0m\u001b[1;33m,\u001b[0m \u001b[1;36m10000\u001b[0m\u001b[1;33m)\u001b[0m\u001b[1;33m,\u001b[0m \u001b[1;33m(\u001b[0m\u001b[0mexchange\u001b[0m\u001b[1;33m,\u001b[0m \u001b[0mBTC\u001b[0m\u001b[1;33m,\u001b[0m \u001b[1;36m0\u001b[0m\u001b[1;33m)\u001b[0m\u001b[1;33m]\u001b[0m\u001b[1;33m\u001b[0m\u001b[1;33m\u001b[0m\u001b[0m\n\u001b[0;32m     38\u001b[0m \u001b[1;33m\u001b[0m\u001b[0m\n\u001b[1;32m---> 39\u001b[1;33m \u001b[0mportfolio\u001b[0m \u001b[1;33m=\u001b[0m \u001b[0mPortfolio\u001b[0m\u001b[1;33m(\u001b[0m\u001b[0mbase_instrument\u001b[0m\u001b[1;33m=\u001b[0m\u001b[0mUSD\u001b[0m\u001b[1;33m,\u001b[0m \u001b[0mwallet_tuples\u001b[0m\u001b[1;33m=\u001b[0m\u001b[0mwallets\u001b[0m\u001b[1;33m)\u001b[0m\u001b[1;33m\u001b[0m\u001b[1;33m\u001b[0m\u001b[0m\n\u001b[0m\u001b[0;32m     40\u001b[0m \u001b[1;33m\u001b[0m\u001b[0m\n\u001b[0;32m     41\u001b[0m environment = TradingEnvironment(exchange=exchange,\n",
      "\u001b[1;32mc:\\users\\cojwa\\source\\repos\\tensortrade\\tensortrade\\base\\component.py\u001b[0m in \u001b[0;36m__call__\u001b[1;34m(cls, *args, **kwargs)\u001b[0m\n\u001b[0;32m     19\u001b[0m         \u001b[0minstance\u001b[0m \u001b[1;33m=\u001b[0m \u001b[0mcls\u001b[0m\u001b[1;33m.\u001b[0m\u001b[0m__new__\u001b[0m\u001b[1;33m(\u001b[0m\u001b[0mcls\u001b[0m\u001b[1;33m,\u001b[0m \u001b[1;33m*\u001b[0m\u001b[0margs\u001b[0m\u001b[1;33m,\u001b[0m \u001b[1;33m**\u001b[0m\u001b[0mkwargs\u001b[0m\u001b[1;33m)\u001b[0m\u001b[1;33m\u001b[0m\u001b[1;33m\u001b[0m\u001b[0m\n\u001b[0;32m     20\u001b[0m         \u001b[0msetattr\u001b[0m\u001b[1;33m(\u001b[0m\u001b[0minstance\u001b[0m\u001b[1;33m,\u001b[0m \u001b[1;34m'context'\u001b[0m\u001b[1;33m,\u001b[0m \u001b[0mContext\u001b[0m\u001b[1;33m(\u001b[0m\u001b[1;33m**\u001b[0m\u001b[0mconfig\u001b[0m\u001b[1;33m)\u001b[0m\u001b[1;33m)\u001b[0m\u001b[1;33m\u001b[0m\u001b[1;33m\u001b[0m\u001b[0m\n\u001b[1;32m---> 21\u001b[1;33m         \u001b[0minstance\u001b[0m\u001b[1;33m.\u001b[0m\u001b[0m__init__\u001b[0m\u001b[1;33m(\u001b[0m\u001b[1;33m*\u001b[0m\u001b[0margs\u001b[0m\u001b[1;33m,\u001b[0m \u001b[1;33m**\u001b[0m\u001b[0mkwargs\u001b[0m\u001b[1;33m)\u001b[0m\u001b[1;33m\u001b[0m\u001b[1;33m\u001b[0m\u001b[0m\n\u001b[0m\u001b[0;32m     22\u001b[0m \u001b[1;33m\u001b[0m\u001b[0m\n\u001b[0;32m     23\u001b[0m         \u001b[1;32mreturn\u001b[0m \u001b[0minstance\u001b[0m\u001b[1;33m\u001b[0m\u001b[1;33m\u001b[0m\u001b[0m\n",
      "\u001b[1;31mTypeError\u001b[0m: __init__() got an unexpected keyword argument 'wallet_tuples'"
     ]
    }
   ],
   "source": [
    "import tensorflow as tf\n",
    "import pandas as pd\n",
    "\n",
    "from stable_baselines.common.policies import MlpLnLstmPolicy\n",
    "from stable_baselines import PPO2\n",
    "\n",
    "from tensortrade.strategies import StableBaselinesTradingStrategy\n",
    "from tensortrade.environments import TradingEnvironment\n",
    "from tensortrade.rewards import RiskAdjustedReturns\n",
    "from tensortrade.actions import ManagedRiskOrders\n",
    "from tensortrade.instruments import Quantity, TradingPair, BTC, USD\n",
    "from tensortrade.orders.criteria import StopLoss, StopDirection\n",
    "from tensortrade.wallets import Wallet, Portfolio\n",
    "from tensortrade.exchanges.simulated import SimulatedExchange\n",
    "from tensortrade.features.stationarity import LogDifference\n",
    "from tensortrade.features.scalers import MinMaxNormalizer\n",
    "from tensortrade.features import FeaturePipeline\n",
    "\n",
    "WINDOW_SIZE = 1\n",
    "PRICE_COLUMN = 'close'\n",
    "\n",
    "normalize = MinMaxNormalizer(inplace=True)\n",
    "difference = LogDifference(inplace=True)\n",
    "feature_pipeline = FeaturePipeline(steps=[normalize])\n",
    "\n",
    "action_scheme = ManagedRiskOrders(pairs=[USD/BTC])\n",
    "reward_scheme = RiskAdjustedReturns(return_algorithm=\"sortino\")\n",
    "\n",
    "csv_file = tf.keras.utils.get_file(\n",
    "    'Coinbase_BTCUSD_1h.csv', 'https://www.cryptodatadownload.com/cdd/Coinbase_BTCUSD_1h.csv')\n",
    "ohlcv_data = pd.read_csv(csv_file, skiprows=1, index_col=\"Date\")\n",
    "ohlcv_data.columns = map(str.lower, ohlcv_data.columns)\n",
    "ohlcv_data = ohlcv_data.rename(columns={'volume btc': 'volume'})\n",
    "\n",
    "exchange = SimulatedExchange(data_frame=ohlcv_data, price_column=PRICE_COLUMN, randomize_time_slices=True)\n",
    "\n",
    "wallets = [(exchange, USD, 10000), (exchange, BTC, 0)]\n",
    "\n",
    "portfolio = Portfolio(base_instrument=USD, wallets=wallets)\n",
    "\n",
    "environment = TradingEnvironment(exchange=exchange,\n",
    "                                 portfolio=portfolio,\n",
    "                                 action_scheme=action_scheme,\n",
    "                                 reward_scheme=reward_scheme,\n",
    "                                 feature_pipeline=feature_pipeline,\n",
    "                                 window_size=WINDOW_SIZE,\n",
    "                                 observe_wallets=[USD, BTC])\n",
    "\n",
    "print('Observation Data:')\n",
    "print(environment.observation_columns)\n",
    "\n",
    "model = PPO2\n",
    "policy = MlpLnLstmPolicy\n",
    "params = { \"learning_rate\": 1e-5, 'nminibatches': 1 }\n",
    "\n",
    "strategy = StableBaselinesTradingStrategy(environment=environment,\n",
    "                                          model=model,\n",
    "                                          policy=policy,\n",
    "                                          model_kwargs=params)\n",
    "\n",
    "strategy.run(steps=10000)"
   ]
  },
  {
   "cell_type": "code",
   "execution_count": null,
   "metadata": {},
   "outputs": [],
   "source": []
  },
  {
   "cell_type": "code",
   "execution_count": null,
   "metadata": {},
   "outputs": [],
   "source": []
  }
 ],
 "metadata": {
  "kernelspec": {
   "display_name": "Python 3",
   "language": "python",
   "name": "python3"
  },
  "language_info": {
   "codemirror_mode": {
    "name": "ipython",
    "version": 3
   },
   "file_extension": ".py",
   "mimetype": "text/x-python",
   "name": "python",
   "nbconvert_exporter": "python",
   "pygments_lexer": "ipython3",
   "version": "3.7.5"
  }
 },
 "nbformat": 4,
 "nbformat_minor": 2
}
